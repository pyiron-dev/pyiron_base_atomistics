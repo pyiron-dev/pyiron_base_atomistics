{
 "cells": [
  {
   "cell_type": "code",
   "execution_count": 1,
   "id": "a8c65155-f248-40aa-bdca-0145957134dc",
   "metadata": {},
   "outputs": [],
   "source": [
    "from atomistics.workflows.evcurve.helper import (\n",
    "    analyse_structures_helper,\n",
    "    generate_structures_helper,\n",
    ")\n",
    "from atomistics.calculators import (\n",
    "    evaluate_with_lammps, get_potential_by_name\n",
    ")\n",
    "from h5io_browser.pointer import get_hierarchical_dict\n",
    "from pyiron_base.storage.hdfio import ProjectHDFio, _extract_module_class_name, _import_class"
   ]
  },
  {
   "cell_type": "code",
   "execution_count": 2,
   "id": "575daa2f-a73b-4670-99dc-c3a586792676",
   "metadata": {},
   "outputs": [],
   "source": [
    "from ase.build import bulk\n",
    "from pyiron_base import Project"
   ]
  },
  {
   "cell_type": "code",
   "execution_count": 3,
   "id": "c6ba7d93-91bc-405a-96ec-b5e6684db8ed",
   "metadata": {},
   "outputs": [],
   "source": [
    "def convert_job_dict_to_job(project, job_name, job_type):\n",
    "    module_path, class_name = _extract_module_class_name(job_type)\n",
    "    class_object = _import_class(module_path, class_name)\n",
    "    project_hdf = ProjectHDFio(project=project, file_name=job_name)\n",
    "    return class_object(project_hdf, job_name)"
   ]
  },
  {
   "cell_type": "code",
   "execution_count": 4,
   "id": "c5f4d821-454c-47de-94e4-c02f02816eeb",
   "metadata": {},
   "outputs": [],
   "source": [
    "def calc_with_lammps(structure, potential_name, calc_mode=\"static\"):\n",
    "    df_pot_selected = get_potential_by_name(\n",
    "        potential_name=potential_name,\n",
    "    )\n",
    "    if calc_mode == \"minimize\":\n",
    "        return {\"structure\": evaluate_with_lammps(\n",
    "            task_dict={\"optimize_positions_and_volume\": structure},\n",
    "            potential_dataframe=df_pot_selected,\n",
    "        )['structure_with_optimized_positions_and_volume']}\n",
    "    elif calc_mode == \"static\":\n",
    "        return evaluate_with_lammps(\n",
    "            task_dict={\"calc_energy\": structure},\n",
    "            potential_dataframe=df_pot_selected,\n",
    "        )\n",
    "    else:\n",
    "        raise ValueError()"
   ]
  },
  {
   "cell_type": "code",
   "execution_count": 5,
   "id": "6df26b21-5f7e-489f-b520-ca6c37ead135",
   "metadata": {},
   "outputs": [],
   "source": [
    "def copy_job(ref_job):\n",
    "    job_ref_dict = job_ref.to_dict()\n",
    "    job_copy = convert_job_dict_to_job(project=ref_job.project, job_name=ref_job.job_name, job_type=job_ref_dict[\"TYPE\"])\n",
    "    job_copy.from_dict(job_dict=get_hierarchical_dict(job_ref_dict))\n",
    "    for k, v in job_ref.input.to_builtin().items():\n",
    "        job_copy.input[k] = v\n",
    "    return job_copy"
   ]
  },
  {
   "cell_type": "code",
   "execution_count": 6,
   "id": "56944312-eddc-41cc-a939-4ee04e10874e",
   "metadata": {},
   "outputs": [],
   "source": [
    "def calc_energy_volume_curve(ref_job, vol_range=0.05, num_points=11, fit_type=\"polynomial\", fit_order=3):\n",
    "    structure_dict = generate_structures_helper(\n",
    "        structure=ref_job.input.structure,\n",
    "        vol_range=vol_range,\n",
    "        num_points=num_points,\n",
    "        strain_lst=None,\n",
    "        axes=('x', 'y', 'z'),\n",
    "    )\n",
    "    energy_dict = {}\n",
    "    for strain, struct in structure_dict.items():\n",
    "        job_strain = copy_job(ref_job=ref_job)\n",
    "        job_strain.input.structure = struct\n",
    "        job_strain.run()\n",
    "        energy_dict[strain] = job_strain.output.result[\"energy\"]\n",
    "    return analyse_structures_helper(\n",
    "        output_dict={\"energy\": energy_dict},\n",
    "        structure_dict=structure_dict,\n",
    "        fit_type=fit_type,\n",
    "        fit_order=fit_order,\n",
    "    )"
   ]
  },
  {
   "cell_type": "code",
   "execution_count": 7,
   "id": "9926bd92-50b4-4cf8-b634-9c1c20983416",
   "metadata": {},
   "outputs": [],
   "source": [
    "pr = Project(\"test\")"
   ]
  },
  {
   "cell_type": "code",
   "execution_count": 8,
   "id": "053f5180-e34a-47ef-9cdb-74965d34d932",
   "metadata": {},
   "outputs": [
    {
     "data": {
      "application/vnd.jupyter.widget-view+json": {
       "model_id": "476607f23e8842bb83e5238b4b7530ac",
       "version_major": 2,
       "version_minor": 0
      },
      "text/plain": [
       "  0%|          | 0/2 [00:00<?, ?it/s]"
      ]
     },
     "metadata": {},
     "output_type": "display_data"
    }
   ],
   "source": [
    "pr.remove_jobs(recursive=True, silently=True)"
   ]
  },
  {
   "cell_type": "code",
   "execution_count": 9,
   "id": "d6714417-5630-4d18-963e-8a21133aebc6",
   "metadata": {},
   "outputs": [],
   "source": [
    "structure = bulk(\"Al\", cubic=True)"
   ]
  },
  {
   "cell_type": "code",
   "execution_count": 10,
   "id": "bdfde3e8-948a-4589-85cf-d50eaa85da39",
   "metadata": {},
   "outputs": [
    {
     "name": "stdout",
     "output_type": "stream",
     "text": [
      "The job calc_with_lammps9584dea7d794ef2c901fe7d264464cee was saved and received the ID: calc_with_lammps9584dea7d794ef2c901fe7d264464cee\n"
     ]
    },
    {
     "name": "stderr",
     "output_type": "stream",
     "text": [
      "/Users/janssen/projects/atomistics/atomistics/calculators/lammps/potential.py:299: SettingWithCopyWarning: \n",
      "A value is trying to be set on a copy of a slice from a DataFrame.\n",
      "Try using .loc[row_indexer,col_indexer] = value instead\n",
      "\n",
      "See the caveats in the documentation: https://pandas.pydata.org/pandas-docs/stable/user_guide/indexing.html#returning-a-view-versus-a-copy\n",
      "  df_pot[\"Config\"] = config_lst\n",
      "/Users/janssen/mambaforge/lib/python3.11/site-packages/pylammpsmpi/wrapper/ase.py:165: UserWarning: Warning: setting upper trangular matrix might slow down the calculation\n",
      "  warnings.warn(\n"
     ]
    }
   ],
   "source": [
    "job_mini = pr.wrap_python_function(calc_with_lammps)\n",
    "job_mini.input.structure = structure\n",
    "job_mini.input.potential_name = '1999--Mishin-Y--Al--LAMMPS--ipr1'\n",
    "job_mini.input.calc_mode=\"minimize\"\n",
    "job_mini.run()"
   ]
  },
  {
   "cell_type": "code",
   "execution_count": 11,
   "id": "a5e7cc60-c7f7-47cb-9e47-578a29c07d04",
   "metadata": {},
   "outputs": [],
   "source": [
    "job_ref = pr.wrap_python_function(calc_with_lammps)\n",
    "job_ref.input.structure = job_mini.output.result['structure']\n",
    "job_ref.input.potential_name = '1999--Mishin-Y--Al--LAMMPS--ipr1'"
   ]
  },
  {
   "cell_type": "code",
   "execution_count": 12,
   "id": "c93c8d6f-bf73-435e-8b1b-fe6fcaa57de3",
   "metadata": {},
   "outputs": [
    {
     "name": "stderr",
     "output_type": "stream",
     "text": [
      "/Users/janssen/projects/atomistics/atomistics/calculators/lammps/potential.py:299: SettingWithCopyWarning: \n",
      "A value is trying to be set on a copy of a slice from a DataFrame.\n",
      "Try using .loc[row_indexer,col_indexer] = value instead\n",
      "\n",
      "See the caveats in the documentation: https://pandas.pydata.org/pandas-docs/stable/user_guide/indexing.html#returning-a-view-versus-a-copy\n",
      "  df_pot[\"Config\"] = config_lst\n",
      "/Users/janssen/mambaforge/lib/python3.11/site-packages/pylammpsmpi/wrapper/ase.py:165: UserWarning: Warning: setting upper trangular matrix might slow down the calculation\n",
      "  warnings.warn(\n"
     ]
    },
    {
     "name": "stdout",
     "output_type": "stream",
     "text": [
      "The job calc_energy_volume_curve7789b1a2cbcf11d9a74bcfc1efb93636 was saved and received the ID: calc_energy_volume_curve7789b1a2cbcf11d9a74bcfc1efb93636\n",
      "The job calc_with_lammpsde3efe5ae6805bcec6e9393b915dc851 was saved and received the ID: calc_with_lammpsde3efe5ae6805bcec6e9393b915dc851\n",
      "The job calc_with_lammps9e19f39603ab005a346b2277841bee7d was saved and received the ID: calc_with_lammps9e19f39603ab005a346b2277841bee7d\n"
     ]
    },
    {
     "name": "stderr",
     "output_type": "stream",
     "text": [
      "/Users/janssen/projects/atomistics/atomistics/calculators/lammps/potential.py:299: SettingWithCopyWarning: \n",
      "A value is trying to be set on a copy of a slice from a DataFrame.\n",
      "Try using .loc[row_indexer,col_indexer] = value instead\n",
      "\n",
      "See the caveats in the documentation: https://pandas.pydata.org/pandas-docs/stable/user_guide/indexing.html#returning-a-view-versus-a-copy\n",
      "  df_pot[\"Config\"] = config_lst\n",
      "/Users/janssen/mambaforge/lib/python3.11/site-packages/pylammpsmpi/wrapper/ase.py:165: UserWarning: Warning: setting upper trangular matrix might slow down the calculation\n",
      "  warnings.warn(\n",
      "/Users/janssen/projects/atomistics/atomistics/calculators/lammps/potential.py:299: SettingWithCopyWarning: \n",
      "A value is trying to be set on a copy of a slice from a DataFrame.\n",
      "Try using .loc[row_indexer,col_indexer] = value instead\n",
      "\n",
      "See the caveats in the documentation: https://pandas.pydata.org/pandas-docs/stable/user_guide/indexing.html#returning-a-view-versus-a-copy\n",
      "  df_pot[\"Config\"] = config_lst\n",
      "/Users/janssen/mambaforge/lib/python3.11/site-packages/pylammpsmpi/wrapper/ase.py:165: UserWarning: Warning: setting upper trangular matrix might slow down the calculation\n",
      "  warnings.warn(\n",
      "/Users/janssen/projects/atomistics/atomistics/calculators/lammps/potential.py:299: SettingWithCopyWarning: \n",
      "A value is trying to be set on a copy of a slice from a DataFrame.\n",
      "Try using .loc[row_indexer,col_indexer] = value instead\n",
      "\n",
      "See the caveats in the documentation: https://pandas.pydata.org/pandas-docs/stable/user_guide/indexing.html#returning-a-view-versus-a-copy\n",
      "  df_pot[\"Config\"] = config_lst\n",
      "/Users/janssen/mambaforge/lib/python3.11/site-packages/pylammpsmpi/wrapper/ase.py:165: UserWarning: Warning: setting upper trangular matrix might slow down the calculation\n",
      "  warnings.warn(\n"
     ]
    },
    {
     "name": "stdout",
     "output_type": "stream",
     "text": [
      "The job calc_with_lammps160c41ac21c1ef4eceec433e0995b2d4 was saved and received the ID: calc_with_lammps160c41ac21c1ef4eceec433e0995b2d4\n",
      "The job calc_with_lammpsc27c656ea84e8c9457af9fbaf2ceb525 was saved and received the ID: calc_with_lammpsc27c656ea84e8c9457af9fbaf2ceb525\n",
      "The job calc_with_lammps7f2ae59fbdcea730ad39a01f4e563216 was saved and received the ID: calc_with_lammps7f2ae59fbdcea730ad39a01f4e563216\n"
     ]
    },
    {
     "name": "stderr",
     "output_type": "stream",
     "text": [
      "/Users/janssen/projects/atomistics/atomistics/calculators/lammps/potential.py:299: SettingWithCopyWarning: \n",
      "A value is trying to be set on a copy of a slice from a DataFrame.\n",
      "Try using .loc[row_indexer,col_indexer] = value instead\n",
      "\n",
      "See the caveats in the documentation: https://pandas.pydata.org/pandas-docs/stable/user_guide/indexing.html#returning-a-view-versus-a-copy\n",
      "  df_pot[\"Config\"] = config_lst\n",
      "/Users/janssen/mambaforge/lib/python3.11/site-packages/pylammpsmpi/wrapper/ase.py:165: UserWarning: Warning: setting upper trangular matrix might slow down the calculation\n",
      "  warnings.warn(\n",
      "/Users/janssen/projects/atomistics/atomistics/calculators/lammps/potential.py:299: SettingWithCopyWarning: \n",
      "A value is trying to be set on a copy of a slice from a DataFrame.\n",
      "Try using .loc[row_indexer,col_indexer] = value instead\n",
      "\n",
      "See the caveats in the documentation: https://pandas.pydata.org/pandas-docs/stable/user_guide/indexing.html#returning-a-view-versus-a-copy\n",
      "  df_pot[\"Config\"] = config_lst\n",
      "/Users/janssen/mambaforge/lib/python3.11/site-packages/pylammpsmpi/wrapper/ase.py:165: UserWarning: Warning: setting upper trangular matrix might slow down the calculation\n",
      "  warnings.warn(\n",
      "/Users/janssen/projects/atomistics/atomistics/calculators/lammps/potential.py:299: SettingWithCopyWarning: \n",
      "A value is trying to be set on a copy of a slice from a DataFrame.\n",
      "Try using .loc[row_indexer,col_indexer] = value instead\n",
      "\n",
      "See the caveats in the documentation: https://pandas.pydata.org/pandas-docs/stable/user_guide/indexing.html#returning-a-view-versus-a-copy\n",
      "  df_pot[\"Config\"] = config_lst\n",
      "/Users/janssen/mambaforge/lib/python3.11/site-packages/pylammpsmpi/wrapper/ase.py:165: UserWarning: Warning: setting upper trangular matrix might slow down the calculation\n",
      "  warnings.warn(\n"
     ]
    },
    {
     "name": "stdout",
     "output_type": "stream",
     "text": [
      "The job calc_with_lammpsff5e993f252fa4d56a980f5ab41f854f was saved and received the ID: calc_with_lammpsff5e993f252fa4d56a980f5ab41f854f\n",
      "The job calc_with_lammpsc91ae8f81148ab700783a293b6197bba was saved and received the ID: calc_with_lammpsc91ae8f81148ab700783a293b6197bba\n",
      "The job calc_with_lammps59f91efb5653da027529807d090cdbd5 was saved and received the ID: calc_with_lammps59f91efb5653da027529807d090cdbd5\n"
     ]
    },
    {
     "name": "stderr",
     "output_type": "stream",
     "text": [
      "/Users/janssen/projects/atomistics/atomistics/calculators/lammps/potential.py:299: SettingWithCopyWarning: \n",
      "A value is trying to be set on a copy of a slice from a DataFrame.\n",
      "Try using .loc[row_indexer,col_indexer] = value instead\n",
      "\n",
      "See the caveats in the documentation: https://pandas.pydata.org/pandas-docs/stable/user_guide/indexing.html#returning-a-view-versus-a-copy\n",
      "  df_pot[\"Config\"] = config_lst\n",
      "/Users/janssen/mambaforge/lib/python3.11/site-packages/pylammpsmpi/wrapper/ase.py:165: UserWarning: Warning: setting upper trangular matrix might slow down the calculation\n",
      "  warnings.warn(\n",
      "/Users/janssen/projects/atomistics/atomistics/calculators/lammps/potential.py:299: SettingWithCopyWarning: \n",
      "A value is trying to be set on a copy of a slice from a DataFrame.\n",
      "Try using .loc[row_indexer,col_indexer] = value instead\n",
      "\n",
      "See the caveats in the documentation: https://pandas.pydata.org/pandas-docs/stable/user_guide/indexing.html#returning-a-view-versus-a-copy\n",
      "  df_pot[\"Config\"] = config_lst\n",
      "/Users/janssen/mambaforge/lib/python3.11/site-packages/pylammpsmpi/wrapper/ase.py:165: UserWarning: Warning: setting upper trangular matrix might slow down the calculation\n",
      "  warnings.warn(\n",
      "/Users/janssen/projects/atomistics/atomistics/calculators/lammps/potential.py:299: SettingWithCopyWarning: \n",
      "A value is trying to be set on a copy of a slice from a DataFrame.\n",
      "Try using .loc[row_indexer,col_indexer] = value instead\n",
      "\n",
      "See the caveats in the documentation: https://pandas.pydata.org/pandas-docs/stable/user_guide/indexing.html#returning-a-view-versus-a-copy\n",
      "  df_pot[\"Config\"] = config_lst\n",
      "/Users/janssen/mambaforge/lib/python3.11/site-packages/pylammpsmpi/wrapper/ase.py:165: UserWarning: Warning: setting upper trangular matrix might slow down the calculation\n",
      "  warnings.warn(\n"
     ]
    },
    {
     "name": "stdout",
     "output_type": "stream",
     "text": [
      "The job calc_with_lammps169c869a12dd65c79391c8c0df65c916 was saved and received the ID: calc_with_lammps169c869a12dd65c79391c8c0df65c916\n",
      "The job calc_with_lammps1a6d6c8f820e99e21b8f3fa89565d27f was saved and received the ID: calc_with_lammps1a6d6c8f820e99e21b8f3fa89565d27f\n",
      "The job calc_with_lammps1dbb01193fb295538ab2957961523623 was saved and received the ID: calc_with_lammps1dbb01193fb295538ab2957961523623\n"
     ]
    },
    {
     "name": "stderr",
     "output_type": "stream",
     "text": [
      "/Users/janssen/projects/atomistics/atomistics/calculators/lammps/potential.py:299: SettingWithCopyWarning: \n",
      "A value is trying to be set on a copy of a slice from a DataFrame.\n",
      "Try using .loc[row_indexer,col_indexer] = value instead\n",
      "\n",
      "See the caveats in the documentation: https://pandas.pydata.org/pandas-docs/stable/user_guide/indexing.html#returning-a-view-versus-a-copy\n",
      "  df_pot[\"Config\"] = config_lst\n",
      "/Users/janssen/mambaforge/lib/python3.11/site-packages/pylammpsmpi/wrapper/ase.py:165: UserWarning: Warning: setting upper trangular matrix might slow down the calculation\n",
      "  warnings.warn(\n"
     ]
    }
   ],
   "source": [
    "job_murn = pr.wrap_python_function(calc_energy_volume_curve)\n",
    "job_murn.input.ref_job = job_ref\n",
    "job_murn.input.vol_range=0.05\n",
    "job_murn.input.num_points=11\n",
    "job_murn.input.fit_type=\"polynomial\"\n",
    "job_murn.input.fit_order=3\n",
    "job_murn.run()"
   ]
  },
  {
   "cell_type": "code",
   "execution_count": 13,
   "id": "55de1dcd-b29f-4b3a-adf9-9737af41c80c",
   "metadata": {},
   "outputs": [
    {
     "data": {
      "text/plain": [
       "{'b_prime_eq': 1.2795467367276832,\n",
       " 'bulkmodul_eq': 77.72501703646152,\n",
       " 'volume_eq': 66.43019790724685,\n",
       " 'energy_eq': -13.43996804404279,\n",
       " 'fit_dict': {'fit_type': 'polynomial',\n",
       "  'least_square_error': 3.225156693142789e-10,\n",
       "  'poly_fit': array([-4.17653947e-05,  1.19748123e-02, -1.03804985e+00,  1.49171027e+01]),\n",
       "  'fit_order': 3},\n",
       " 'energy': [-13.39817505470619,\n",
       "  -13.4133940159381,\n",
       "  -13.425115937672247,\n",
       "  -13.433413658516752,\n",
       "  -13.438358754759532,\n",
       "  -13.439999952735112,\n",
       "  -13.438382355644501,\n",
       "  -13.433605756604651,\n",
       "  -13.42577121684493,\n",
       "  -13.41495739484744,\n",
       "  -13.401227593921211],\n",
       " 'volume': [63.10883669478296,\n",
       "  63.77314023893856,\n",
       "  64.43744378309412,\n",
       "  65.10174732724975,\n",
       "  65.7660508714054,\n",
       "  66.43035441556098,\n",
       "  67.09465795971657,\n",
       "  67.7589615038722,\n",
       "  68.42326504802779,\n",
       "  69.08756859218344,\n",
       "  69.75187213633905]}"
      ]
     },
     "execution_count": 13,
     "metadata": {},
     "output_type": "execute_result"
    }
   ],
   "source": [
    "job_murn.output[\"result\"]"
   ]
  },
  {
   "cell_type": "code",
   "execution_count": null,
   "id": "e3da533b-6a3f-42cf-94ae-b0394a5d7c8f",
   "metadata": {},
   "outputs": [],
   "source": []
  }
 ],
 "metadata": {
  "kernelspec": {
   "display_name": "Python 3 (ipykernel)",
   "language": "python",
   "name": "python3"
  },
  "language_info": {
   "codemirror_mode": {
    "name": "ipython",
    "version": 3
   },
   "file_extension": ".py",
   "mimetype": "text/x-python",
   "name": "python",
   "nbconvert_exporter": "python",
   "pygments_lexer": "ipython3",
   "version": "3.11.8"
  }
 },
 "nbformat": 4,
 "nbformat_minor": 5
}
