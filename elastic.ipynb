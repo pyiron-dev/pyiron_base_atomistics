{
 "cells": [
  {
   "cell_type": "code",
   "execution_count": 1,
   "id": "a8c65155-f248-40aa-bdca-0145957134dc",
   "metadata": {},
   "outputs": [],
   "source": [
    "from atomistics.workflows.elastic.workflow import (\n",
    "    analyse_structures_helper,\n",
    "    generate_structures_helper\n",
    ")\n",
    "from atomistics.calculators import (\n",
    "    evaluate_with_lammps, get_potential_by_name\n",
    ")\n",
    "from h5io_browser.pointer import get_hierarchical_dict\n",
    "from pyiron_base.storage.hdfio import ProjectHDFio, _extract_module_class_name, _import_class"
   ]
  },
  {
   "cell_type": "code",
   "execution_count": 2,
   "id": "575daa2f-a73b-4670-99dc-c3a586792676",
   "metadata": {},
   "outputs": [],
   "source": [
    "from ase.build import bulk\n",
    "from pyiron_base import Project"
   ]
  },
  {
   "cell_type": "code",
   "execution_count": 3,
   "id": "c6ba7d93-91bc-405a-96ec-b5e6684db8ed",
   "metadata": {},
   "outputs": [],
   "source": [
    "def convert_job_dict_to_job(project, job_name, job_type):\n",
    "    module_path, class_name = _extract_module_class_name(job_type)\n",
    "    class_object = _import_class(module_path, class_name)\n",
    "    project_hdf = ProjectHDFio(project=project, file_name=job_name)\n",
    "    return class_object(project_hdf, job_name)"
   ]
  },
  {
   "cell_type": "code",
   "execution_count": 4,
   "id": "c5f4d821-454c-47de-94e4-c02f02816eeb",
   "metadata": {},
   "outputs": [],
   "source": [
    "def calc_with_lammps(structure, potential_name, calc_mode=\"static\"):\n",
    "    df_pot_selected = get_potential_by_name(\n",
    "        potential_name=potential_name,\n",
    "    )\n",
    "    if calc_mode == \"minimize\":\n",
    "        return {\"structure\": evaluate_with_lammps(\n",
    "            task_dict={\"optimize_positions_and_volume\": structure},\n",
    "            potential_dataframe=df_pot_selected,\n",
    "        )['structure_with_optimized_positions_and_volume']}\n",
    "    elif calc_mode == \"static\":\n",
    "        return evaluate_with_lammps(\n",
    "            task_dict={\"calc_energy\": structure},\n",
    "            potential_dataframe=df_pot_selected,\n",
    "        )\n",
    "    else:\n",
    "        raise ValueError()"
   ]
  },
  {
   "cell_type": "code",
   "execution_count": 5,
   "id": "6df26b21-5f7e-489f-b520-ca6c37ead135",
   "metadata": {},
   "outputs": [],
   "source": [
    "def copy_job(ref_job):\n",
    "    job_ref_dict = job_ref.to_dict()\n",
    "    job_copy = convert_job_dict_to_job(project=ref_job.project, job_name=ref_job.job_name, job_type=job_ref_dict[\"TYPE\"])\n",
    "    job_copy.from_dict(job_dict=get_hierarchical_dict(job_ref_dict))\n",
    "    for k, v in job_ref.input.to_builtin().items():\n",
    "        job_copy.input[k] = v\n",
    "    return job_copy"
   ]
  },
  {
   "cell_type": "code",
   "execution_count": 6,
   "id": "56944312-eddc-41cc-a939-4ee04e10874e",
   "metadata": {},
   "outputs": [],
   "source": [
    "def calc_energy_volume_curve(ref_job, eps_range=0.005, num_of_point=5, fit_order=2):\n",
    "    sym_dict, structure_dict = generate_structures_helper(\n",
    "        structure=ref_job.input.structure,\n",
    "        eps_range=eps_range,\n",
    "        num_of_point=num_of_point,\n",
    "    )\n",
    "    energy_dict = {}\n",
    "    for strain, struct in structure_dict.items():\n",
    "        job_strain = copy_job(ref_job=ref_job)\n",
    "        job_strain.input.structure = struct\n",
    "        job_strain.run()\n",
    "        energy_dict[strain] = job_strain.output.result[\"energy\"]\n",
    "    return analyse_structures_helper(\n",
    "        output_dict={\"energy\": energy_dict},\n",
    "        sym_dict=sym_dict,\n",
    "        fit_order=2\n",
    "    )"
   ]
  },
  {
   "cell_type": "code",
   "execution_count": 7,
   "id": "9926bd92-50b4-4cf8-b634-9c1c20983416",
   "metadata": {},
   "outputs": [],
   "source": [
    "pr = Project(\"test\")"
   ]
  },
  {
   "cell_type": "code",
   "execution_count": 8,
   "id": "053f5180-e34a-47ef-9cdb-74965d34d932",
   "metadata": {},
   "outputs": [
    {
     "data": {
      "application/vnd.jupyter.widget-view+json": {
       "model_id": "97cf98e4b79a4b5ea350751221fdd5de",
       "version_major": 2,
       "version_minor": 0
      },
      "text/plain": [
       "  0%|          | 0/13 [00:00<?, ?it/s]"
      ]
     },
     "metadata": {},
     "output_type": "display_data"
    }
   ],
   "source": [
    "pr.remove_jobs(recursive=True, silently=True)"
   ]
  },
  {
   "cell_type": "code",
   "execution_count": 9,
   "id": "d6714417-5630-4d18-963e-8a21133aebc6",
   "metadata": {},
   "outputs": [],
   "source": [
    "structure = bulk(\"Al\", cubic=True)"
   ]
  },
  {
   "cell_type": "code",
   "execution_count": 10,
   "id": "bdfde3e8-948a-4589-85cf-d50eaa85da39",
   "metadata": {},
   "outputs": [
    {
     "name": "stdout",
     "output_type": "stream",
     "text": [
      "The job calc_with_lammps9584dea7d794ef2c901fe7d264464cee was saved and received the ID: calc_with_lammps9584dea7d794ef2c901fe7d264464cee\n"
     ]
    },
    {
     "name": "stderr",
     "output_type": "stream",
     "text": [
      "/Users/janssen/projects/atomistics/atomistics/calculators/lammps/potential.py:299: SettingWithCopyWarning: \n",
      "A value is trying to be set on a copy of a slice from a DataFrame.\n",
      "Try using .loc[row_indexer,col_indexer] = value instead\n",
      "\n",
      "See the caveats in the documentation: https://pandas.pydata.org/pandas-docs/stable/user_guide/indexing.html#returning-a-view-versus-a-copy\n",
      "  df_pot[\"Config\"] = config_lst\n",
      "/Users/janssen/mambaforge/lib/python3.11/site-packages/pylammpsmpi/wrapper/ase.py:165: UserWarning: Warning: setting upper trangular matrix might slow down the calculation\n",
      "  warnings.warn(\n"
     ]
    }
   ],
   "source": [
    "job_mini = pr.wrap_python_function(calc_with_lammps)\n",
    "job_mini.input.structure = structure\n",
    "job_mini.input.potential_name = '1999--Mishin-Y--Al--LAMMPS--ipr1'\n",
    "job_mini.input.calc_mode=\"minimize\"\n",
    "job_mini.run()"
   ]
  },
  {
   "cell_type": "code",
   "execution_count": 11,
   "id": "a5e7cc60-c7f7-47cb-9e47-578a29c07d04",
   "metadata": {},
   "outputs": [],
   "source": [
    "job_ref = pr.wrap_python_function(calc_with_lammps)\n",
    "job_ref.input.structure = job_mini.output.result['structure']\n",
    "job_ref.input.potential_name = '1999--Mishin-Y--Al--LAMMPS--ipr1'"
   ]
  },
  {
   "cell_type": "code",
   "execution_count": 12,
   "id": "c93c8d6f-bf73-435e-8b1b-fe6fcaa57de3",
   "metadata": {},
   "outputs": [
    {
     "name": "stderr",
     "output_type": "stream",
     "text": [
      "/Users/janssen/projects/atomistics/atomistics/calculators/lammps/potential.py:299: SettingWithCopyWarning: \n",
      "A value is trying to be set on a copy of a slice from a DataFrame.\n",
      "Try using .loc[row_indexer,col_indexer] = value instead\n",
      "\n",
      "See the caveats in the documentation: https://pandas.pydata.org/pandas-docs/stable/user_guide/indexing.html#returning-a-view-versus-a-copy\n",
      "  df_pot[\"Config\"] = config_lst\n",
      "/Users/janssen/mambaforge/lib/python3.11/site-packages/pylammpsmpi/wrapper/ase.py:165: UserWarning: Warning: setting upper trangular matrix might slow down the calculation\n",
      "  warnings.warn(\n"
     ]
    },
    {
     "name": "stdout",
     "output_type": "stream",
     "text": [
      "The job calc_energy_volume_curve0eb680fcb55f24070c413ae63fde62bc was saved and received the ID: calc_energy_volume_curve0eb680fcb55f24070c413ae63fde62bc\n",
      "The job calc_with_lammpsff5e993f252fa4d56a980f5ab41f854f was saved and received the ID: calc_with_lammpsff5e993f252fa4d56a980f5ab41f854f\n",
      "The job calc_with_lammps54f632938ca3f4a5cf132eb6e2a3de2c was saved and received the ID: calc_with_lammps54f632938ca3f4a5cf132eb6e2a3de2c\n"
     ]
    },
    {
     "name": "stderr",
     "output_type": "stream",
     "text": [
      "/Users/janssen/projects/atomistics/atomistics/calculators/lammps/potential.py:299: SettingWithCopyWarning: \n",
      "A value is trying to be set on a copy of a slice from a DataFrame.\n",
      "Try using .loc[row_indexer,col_indexer] = value instead\n",
      "\n",
      "See the caveats in the documentation: https://pandas.pydata.org/pandas-docs/stable/user_guide/indexing.html#returning-a-view-versus-a-copy\n",
      "  df_pot[\"Config\"] = config_lst\n",
      "/Users/janssen/mambaforge/lib/python3.11/site-packages/pylammpsmpi/wrapper/ase.py:165: UserWarning: Warning: setting upper trangular matrix might slow down the calculation\n",
      "  warnings.warn(\n",
      "/Users/janssen/projects/atomistics/atomistics/calculators/lammps/potential.py:299: SettingWithCopyWarning: \n",
      "A value is trying to be set on a copy of a slice from a DataFrame.\n",
      "Try using .loc[row_indexer,col_indexer] = value instead\n",
      "\n",
      "See the caveats in the documentation: https://pandas.pydata.org/pandas-docs/stable/user_guide/indexing.html#returning-a-view-versus-a-copy\n",
      "  df_pot[\"Config\"] = config_lst\n",
      "/Users/janssen/mambaforge/lib/python3.11/site-packages/pylammpsmpi/wrapper/ase.py:165: UserWarning: Warning: setting upper trangular matrix might slow down the calculation\n",
      "  warnings.warn(\n",
      "/Users/janssen/projects/atomistics/atomistics/calculators/lammps/potential.py:299: SettingWithCopyWarning: \n",
      "A value is trying to be set on a copy of a slice from a DataFrame.\n",
      "Try using .loc[row_indexer,col_indexer] = value instead\n",
      "\n",
      "See the caveats in the documentation: https://pandas.pydata.org/pandas-docs/stable/user_guide/indexing.html#returning-a-view-versus-a-copy\n",
      "  df_pot[\"Config\"] = config_lst\n",
      "/Users/janssen/mambaforge/lib/python3.11/site-packages/pylammpsmpi/wrapper/ase.py:165: UserWarning: Warning: setting upper trangular matrix might slow down the calculation\n",
      "  warnings.warn(\n"
     ]
    },
    {
     "name": "stdout",
     "output_type": "stream",
     "text": [
      "The job calc_with_lammpsbfbe1f35d9f685196c72703f34c3a5e6 was saved and received the ID: calc_with_lammpsbfbe1f35d9f685196c72703f34c3a5e6\n",
      "The job calc_with_lammps3c75feadebdf5a32700c6c409fb1b9a5 was saved and received the ID: calc_with_lammps3c75feadebdf5a32700c6c409fb1b9a5\n",
      "The job calc_with_lammpsea6a2dc88441d3fb0f6975128efda4e5 was saved and received the ID: calc_with_lammpsea6a2dc88441d3fb0f6975128efda4e5\n"
     ]
    },
    {
     "name": "stderr",
     "output_type": "stream",
     "text": [
      "/Users/janssen/projects/atomistics/atomistics/calculators/lammps/potential.py:299: SettingWithCopyWarning: \n",
      "A value is trying to be set on a copy of a slice from a DataFrame.\n",
      "Try using .loc[row_indexer,col_indexer] = value instead\n",
      "\n",
      "See the caveats in the documentation: https://pandas.pydata.org/pandas-docs/stable/user_guide/indexing.html#returning-a-view-versus-a-copy\n",
      "  df_pot[\"Config\"] = config_lst\n",
      "/Users/janssen/mambaforge/lib/python3.11/site-packages/pylammpsmpi/wrapper/ase.py:165: UserWarning: Warning: setting upper trangular matrix might slow down the calculation\n",
      "  warnings.warn(\n",
      "/Users/janssen/projects/atomistics/atomistics/calculators/lammps/potential.py:299: SettingWithCopyWarning: \n",
      "A value is trying to be set on a copy of a slice from a DataFrame.\n",
      "Try using .loc[row_indexer,col_indexer] = value instead\n",
      "\n",
      "See the caveats in the documentation: https://pandas.pydata.org/pandas-docs/stable/user_guide/indexing.html#returning-a-view-versus-a-copy\n",
      "  df_pot[\"Config\"] = config_lst\n",
      "/Users/janssen/mambaforge/lib/python3.11/site-packages/pylammpsmpi/wrapper/ase.py:165: UserWarning: Warning: setting upper trangular matrix might slow down the calculation\n",
      "  warnings.warn(\n",
      "/Users/janssen/projects/atomistics/atomistics/calculators/lammps/potential.py:299: SettingWithCopyWarning: \n",
      "A value is trying to be set on a copy of a slice from a DataFrame.\n",
      "Try using .loc[row_indexer,col_indexer] = value instead\n",
      "\n",
      "See the caveats in the documentation: https://pandas.pydata.org/pandas-docs/stable/user_guide/indexing.html#returning-a-view-versus-a-copy\n",
      "  df_pot[\"Config\"] = config_lst\n",
      "/Users/janssen/mambaforge/lib/python3.11/site-packages/pylammpsmpi/wrapper/ase.py:165: UserWarning: Warning: setting upper trangular matrix might slow down the calculation\n",
      "  warnings.warn(\n"
     ]
    },
    {
     "name": "stdout",
     "output_type": "stream",
     "text": [
      "The job calc_with_lammps98ecfce3f0ae01fb0cdc7c217796e3d4 was saved and received the ID: calc_with_lammps98ecfce3f0ae01fb0cdc7c217796e3d4\n",
      "The job calc_with_lammpsd0ab80ef27ddaded6b160137c8f93a0a was saved and received the ID: calc_with_lammpsd0ab80ef27ddaded6b160137c8f93a0a\n",
      "The job calc_with_lammpsd4372958f0e3fcf6490422902403120d was saved and received the ID: calc_with_lammpsd4372958f0e3fcf6490422902403120d\n"
     ]
    },
    {
     "name": "stderr",
     "output_type": "stream",
     "text": [
      "/Users/janssen/projects/atomistics/atomistics/calculators/lammps/potential.py:299: SettingWithCopyWarning: \n",
      "A value is trying to be set on a copy of a slice from a DataFrame.\n",
      "Try using .loc[row_indexer,col_indexer] = value instead\n",
      "\n",
      "See the caveats in the documentation: https://pandas.pydata.org/pandas-docs/stable/user_guide/indexing.html#returning-a-view-versus-a-copy\n",
      "  df_pot[\"Config\"] = config_lst\n",
      "/Users/janssen/mambaforge/lib/python3.11/site-packages/pylammpsmpi/wrapper/ase.py:165: UserWarning: Warning: setting upper trangular matrix might slow down the calculation\n",
      "  warnings.warn(\n",
      "/Users/janssen/projects/atomistics/atomistics/calculators/lammps/potential.py:299: SettingWithCopyWarning: \n",
      "A value is trying to be set on a copy of a slice from a DataFrame.\n",
      "Try using .loc[row_indexer,col_indexer] = value instead\n",
      "\n",
      "See the caveats in the documentation: https://pandas.pydata.org/pandas-docs/stable/user_guide/indexing.html#returning-a-view-versus-a-copy\n",
      "  df_pot[\"Config\"] = config_lst\n",
      "/Users/janssen/mambaforge/lib/python3.11/site-packages/pylammpsmpi/wrapper/ase.py:165: UserWarning: Warning: setting upper trangular matrix might slow down the calculation\n",
      "  warnings.warn(\n",
      "/Users/janssen/projects/atomistics/atomistics/calculators/lammps/potential.py:299: SettingWithCopyWarning: \n",
      "A value is trying to be set on a copy of a slice from a DataFrame.\n",
      "Try using .loc[row_indexer,col_indexer] = value instead\n",
      "\n",
      "See the caveats in the documentation: https://pandas.pydata.org/pandas-docs/stable/user_guide/indexing.html#returning-a-view-versus-a-copy\n",
      "  df_pot[\"Config\"] = config_lst\n"
     ]
    },
    {
     "name": "stdout",
     "output_type": "stream",
     "text": [
      "The job calc_with_lammpsc7af01b1d9a08c123a9f020730186b28 was saved and received the ID: calc_with_lammpsc7af01b1d9a08c123a9f020730186b28\n",
      "The job calc_with_lammpsec0866e1e6a9aaf57933420f57fb8127 was saved and received the ID: calc_with_lammpsec0866e1e6a9aaf57933420f57fb8127\n",
      "The job calc_with_lammps2b96e27468594988044dd9be8c5e5ce7 was saved and received the ID: calc_with_lammps2b96e27468594988044dd9be8c5e5ce7\n"
     ]
    },
    {
     "name": "stderr",
     "output_type": "stream",
     "text": [
      "/Users/janssen/projects/atomistics/atomistics/calculators/lammps/potential.py:299: SettingWithCopyWarning: \n",
      "A value is trying to be set on a copy of a slice from a DataFrame.\n",
      "Try using .loc[row_indexer,col_indexer] = value instead\n",
      "\n",
      "See the caveats in the documentation: https://pandas.pydata.org/pandas-docs/stable/user_guide/indexing.html#returning-a-view-versus-a-copy\n",
      "  df_pot[\"Config\"] = config_lst\n",
      "/Users/janssen/projects/atomistics/atomistics/calculators/lammps/potential.py:299: SettingWithCopyWarning: \n",
      "A value is trying to be set on a copy of a slice from a DataFrame.\n",
      "Try using .loc[row_indexer,col_indexer] = value instead\n",
      "\n",
      "See the caveats in the documentation: https://pandas.pydata.org/pandas-docs/stable/user_guide/indexing.html#returning-a-view-versus-a-copy\n",
      "  df_pot[\"Config\"] = config_lst\n"
     ]
    },
    {
     "name": "stdout",
     "output_type": "stream",
     "text": [
      "The job calc_with_lammps0ba605d54d4cbfea54f26b5eed29aebf was saved and received the ID: calc_with_lammps0ba605d54d4cbfea54f26b5eed29aebf\n",
      "The job calc_with_lammps2be97efc2aa7bc2513d2a4d71282788b was saved and received the ID: calc_with_lammps2be97efc2aa7bc2513d2a4d71282788b\n"
     ]
    },
    {
     "name": "stderr",
     "output_type": "stream",
     "text": [
      "/Users/janssen/projects/atomistics/atomistics/calculators/lammps/potential.py:299: SettingWithCopyWarning: \n",
      "A value is trying to be set on a copy of a slice from a DataFrame.\n",
      "Try using .loc[row_indexer,col_indexer] = value instead\n",
      "\n",
      "See the caveats in the documentation: https://pandas.pydata.org/pandas-docs/stable/user_guide/indexing.html#returning-a-view-versus-a-copy\n",
      "  df_pot[\"Config\"] = config_lst\n"
     ]
    }
   ],
   "source": [
    "job_murn = pr.wrap_python_function(calc_energy_volume_curve)\n",
    "job_murn.input.ref_job = job_ref\n",
    "job_murn.input.eps_range = 0.005\n",
    "job_murn.input.num_of_point = 5\n",
    "job_murn.input.fit_order = 2\n",
    "job_murn.run()"
   ]
  },
  {
   "cell_type": "code",
   "execution_count": 13,
   "id": "55de1dcd-b29f-4b3a-adf9-9737af41c80c",
   "metadata": {},
   "outputs": [
    {
     "data": {
      "text/plain": [
       "({'SGN': 225,\n",
       "  'v0': 66.43035441556098,\n",
       "  'LC': 'CI',\n",
       "  'Lag_strain_list': ['01', '08', '23'],\n",
       "  'epss': array([-0.005 , -0.0025,  0.    ,  0.0025,  0.005 ]),\n",
       "  'strain_energy': [[(-0.005, -13.436320248980278),\n",
       "    (-0.0025, -13.439079680886989),\n",
       "    (0.0, -13.439999952735112),\n",
       "    (0.0024999999999999996, -13.439084974614394),\n",
       "    (0.005, -13.436364320399795)],\n",
       "   [(-0.005, -13.43817471490433),\n",
       "    (-0.0025, -13.439544638502628),\n",
       "    (0.0, -13.439999952735112),\n",
       "    (0.0024999999999999996, -13.43954822781134),\n",
       "    (0.005, -13.438204192615181)],\n",
       "   [(-0.005, -13.436741954502294),\n",
       "    (-0.0025, -13.439195465714546),\n",
       "    (0.0, -13.439999952735112),\n",
       "    (0.0024999999999999996, -13.439213491269703),\n",
       "    (0.005, -13.436885713447483)]],\n",
       "  'e0': -13.439999952735112,\n",
       "  'A2': array([2.20130388, 1.08985578, 1.91883479])},\n",
       " {'elastic_matrix': array([[114.10311701,  60.51102935,  60.51102935,   0.        ,\n",
       "            0.        ,   0.        ],\n",
       "         [ 60.51102935, 114.10311701,  60.51102935,   0.        ,\n",
       "            0.        ,   0.        ],\n",
       "         [ 60.51102935,  60.51102935, 114.10311701,   0.        ,\n",
       "            0.        ,   0.        ],\n",
       "         [  0.        ,   0.        ,   0.        ,  51.23853765,\n",
       "            0.        ,   0.        ],\n",
       "         [  0.        ,   0.        ,   0.        ,   0.        ,\n",
       "           51.23853765,   0.        ],\n",
       "         [  0.        ,   0.        ,   0.        ,   0.        ,\n",
       "            0.        ,  51.23853765]]),\n",
       "  'elastic_matrix_inverse': array([[ 0.01385733, -0.00480214, -0.00480214,  0.        ,  0.        ,\n",
       "           0.        ],\n",
       "         [-0.00480214,  0.01385733, -0.00480214,  0.        ,  0.        ,\n",
       "           0.        ],\n",
       "         [-0.00480214, -0.00480214,  0.01385733,  0.        ,  0.        ,\n",
       "           0.        ],\n",
       "         [ 0.        ,  0.        ,  0.        ,  0.01951656,  0.        ,\n",
       "           0.        ],\n",
       "         [ 0.        ,  0.        ,  0.        ,  0.        ,  0.01951656,\n",
       "           0.        ],\n",
       "         [ 0.        ,  0.        ,  0.        ,  0.        ,  0.        ,\n",
       "           0.01951656]]),\n",
       "  'bulkmodul_voigt': 78.37505857283008,\n",
       "  'bulkmodul_reuss': 78.3750585728301,\n",
       "  'bulkmodul_hill': 78.37505857283008,\n",
       "  'shearmodul_voigt': 41.461540122966355,\n",
       "  'shearmodul_reuss': 37.54104251748961,\n",
       "  'shearmodul_hill': 39.50129132022798,\n",
       "  'youngsmodul_voigt': 105.73882997938081,\n",
       "  'youngsmodul_reuss': 97.11702765035055,\n",
       "  'youngsmodul_hill': 101.4586994792433,\n",
       "  'poissonsratio_voigt': 0.2751435386358214,\n",
       "  'poissonsratio_reuss': 0.29347803281043283,\n",
       "  'poissonsratio_hill': 0.284245351079041,\n",
       "  'AVR': 4.9624929647162235,\n",
       "  'elastic_matrix_eigval': EigResult(eigenvalues=array([ 53.59208765, 235.12517572,  53.59208765,  51.23853765,\n",
       "          51.23853765,  51.23853765]), eigenvectors=array([[-0.81649658,  0.57735027, -0.02120379,  0.        ,  0.        ,\n",
       "           0.        ],\n",
       "         [ 0.40824829,  0.57735027, -0.69626641,  0.        ,  0.        ,\n",
       "           0.        ],\n",
       "         [ 0.40824829,  0.57735027,  0.7174702 ,  0.        ,  0.        ,\n",
       "           0.        ],\n",
       "         [ 0.        ,  0.        ,  0.        ,  1.        ,  0.        ,\n",
       "           0.        ],\n",
       "         [ 0.        ,  0.        ,  0.        ,  0.        ,  1.        ,\n",
       "           0.        ],\n",
       "         [ 0.        ,  0.        ,  0.        ,  0.        ,  0.        ,\n",
       "           1.        ]]))})"
      ]
     },
     "execution_count": 13,
     "metadata": {},
     "output_type": "execute_result"
    }
   ],
   "source": [
    "job_murn.output[\"result\"]"
   ]
  },
  {
   "cell_type": "code",
   "execution_count": null,
   "id": "e3da533b-6a3f-42cf-94ae-b0394a5d7c8f",
   "metadata": {},
   "outputs": [],
   "source": []
  }
 ],
 "metadata": {
  "kernelspec": {
   "display_name": "Python 3 (ipykernel)",
   "language": "python",
   "name": "python3"
  },
  "language_info": {
   "codemirror_mode": {
    "name": "ipython",
    "version": 3
   },
   "file_extension": ".py",
   "mimetype": "text/x-python",
   "name": "python",
   "nbconvert_exporter": "python",
   "pygments_lexer": "ipython3",
   "version": "3.11.8"
  }
 },
 "nbformat": 4,
 "nbformat_minor": 5
}
